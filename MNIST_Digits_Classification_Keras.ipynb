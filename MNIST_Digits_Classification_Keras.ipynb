{
  "nbformat": 4,
  "nbformat_minor": 0,
  "metadata": {
    "orig_nbformat": 4,
    "language_info": {
      "name": "python",
      "version": "3.9.6",
      "mimetype": "text/x-python",
      "codemirror_mode": {
        "name": "ipython",
        "version": 3
      },
      "pygments_lexer": "ipython3",
      "nbconvert_exporter": "python",
      "file_extension": ".py"
    },
    "kernelspec": {
      "name": "python3",
      "display_name": "Python 3.9.6 64-bit"
    },
    "interpreter": {
      "hash": "37c07f04520072d2bae32fcc521c93f9ed863935f76ccf77877a027693956774"
    },
    "colab": {
      "name": "MNIST_Digits_Classification_Keras.ipynb",
      "provenance": []
    },
    "accelerator": "GPU"
  },
  "cells": [
    {
      "cell_type": "code",
      "metadata": {
        "id": "Rx0bjIwig3EK"
      },
      "source": [
        "import numpy #biblioteca para manipulação de matrizes\n",
        "from matplotlib import pyplot as plt #biblioteca para crianção de gráficos\n",
        "#início das iportações de classes do Keras (modelos de deep learning)\n",
        "from keras.datasets import mnist #importa dataset mnist\n",
        "from keras.models  import Sequential #importa um modelo sequencial \n",
        "from keras.layers import Dense, InputLayer #importa camadas totalmente conectadas\n",
        "from keras.layers import Dropout #importa estrutura de dropout\n",
        "from keras.utils import np_utils #importa biblioteca de utilizades do keras\n"
      ],
      "execution_count": null,
      "outputs": []
    },
    {
      "cell_type": "code",
      "metadata": {
        "id": "Avi0Jib_g3EL",
        "colab": {
          "base_uri": "https://localhost:8080/",
          "height": 350
        },
        "outputId": "0c68ca17-0ef7-4d53-88e8-31c06e5a819e"
      },
      "source": [
        "(x_train, y_train), (x_test, y_test) = mnist.load_data() #importa o dataset mnist\n",
        "print(x_train.shape)\n",
        "first_image = x_train[100] #obtém a imagem de treino no índice 100 do vetor\n",
        "#realiza manipulação dos dados da imagem\n",
        "first_image = numpy.array(first_image, dtype='float')\n",
        "pixels = first_image.reshape((28,28))\n",
        "#exibe a imagem do vetor\n",
        "plt.imshow(pixels, cmap='gray')\n",
        "plt.show()\n",
        "print(y_train[100]) #imprimi a classe de imagem do índice 100"
      ],
      "execution_count": null,
      "outputs": [
        {
          "output_type": "stream",
          "name": "stdout",
          "text": [
            "Downloading data from https://storage.googleapis.com/tensorflow/tf-keras-datasets/mnist.npz\n",
            "11493376/11490434 [==============================] - 0s 0us/step\n",
            "11501568/11490434 [==============================] - 0s 0us/step\n",
            "(60000, 28, 28)\n"
          ]
        },
        {
          "output_type": "display_data",
          "data": {
            "image/png": "[encoded data removed]",
            "text/plain": [
              "<Figure size 432x288 with 1 Axes>"
            ]
          },
          "metadata": {
            "needs_background": "light"
          }
        },
        {
          "output_type": "stream",
          "name": "stdout",
          "text": [
            "5\n"
          ]
        }
      ]
    },
    {
      "cell_type": "code",
      "metadata": {
        "id": "2JUilYQWg3EM",
        "colab": {
          "base_uri": "https://localhost:8080/"
        },
        "outputId": "3bafb8e2-8c5d-4f47-d10b-7459cd59aea4"
      },
      "source": [
        "num_pixels = x_train.shape[1] * x_train.shape[2] #calcula o total de pixels da imagem. CE - camada de entrada\n",
        "print(num_pixels)\n",
        "\n",
        "#transforma os valores dos pixels para float32\n",
        "x_train2 = x_train.reshape(x_train.shape[0], num_pixels).astype('float32')\n",
        "x_test2 = x_test.reshape(x_test.shape[0], num_pixels).astype('float32')\n",
        "\n",
        "x_train2 = x_train2/255\n",
        "x_test2 = x_test2/255\n",
        "\n",
        "print(x_train)\n",
        "print(x_train2)"
      ],
      "execution_count": null,
      "outputs": [
        {
          "output_type": "stream",
          "name": "stdout",
          "text": [
            "784\n",
            "[[[0 0 0 ... 0 0 0]\n",
            "  [0 0 0 ... 0 0 0]\n",
            "  [0 0 0 ... 0 0 0]\n",
            "  ...\n",
            "  [0 0 0 ... 0 0 0]\n",
            "  [0 0 0 ... 0 0 0]\n",
            "  [0 0 0 ... 0 0 0]]\n",
            "\n",
            " [[0 0 0 ... 0 0 0]\n",
            "  [0 0 0 ... 0 0 0]\n",
            "  [0 0 0 ... 0 0 0]\n",
            "  ...\n",
            "  [0 0 0 ... 0 0 0]\n",
            "  [0 0 0 ... 0 0 0]\n",
            "  [0 0 0 ... 0 0 0]]\n",
            "\n",
            " [[0 0 0 ... 0 0 0]\n",
            "  [0 0 0 ... 0 0 0]\n",
            "  [0 0 0 ... 0 0 0]\n",
            "  ...\n",
            "  [0 0 0 ... 0 0 0]\n",
            "  [0 0 0 ... 0 0 0]\n",
            "  [0 0 0 ... 0 0 0]]\n",
            "\n",
            " ...\n",
            "\n",
            " [[0 0 0 ... 0 0 0]\n",
            "  [0 0 0 ... 0 0 0]\n",
            "  [0 0 0 ... 0 0 0]\n",
            "  ...\n",
            "  [0 0 0 ... 0 0 0]\n",
            "  [0 0 0 ... 0 0 0]\n",
            "  [0 0 0 ... 0 0 0]]\n",
            "\n",
            " [[0 0 0 ... 0 0 0]\n",
            "  [0 0 0 ... 0 0 0]\n",
            "  [0 0 0 ... 0 0 0]\n",
            "  ...\n",
            "  [0 0 0 ... 0 0 0]\n",
            "  [0 0 0 ... 0 0 0]\n",
            "  [0 0 0 ... 0 0 0]]\n",
            "\n",
            " [[0 0 0 ... 0 0 0]\n",
            "  [0 0 0 ... 0 0 0]\n",
            "  [0 0 0 ... 0 0 0]\n",
            "  ...\n",
            "  [0 0 0 ... 0 0 0]\n",
            "  [0 0 0 ... 0 0 0]\n",
            "  [0 0 0 ... 0 0 0]]]\n",
            "[[0. 0. 0. ... 0. 0. 0.]\n",
            " [0. 0. 0. ... 0. 0. 0.]\n",
            " [0. 0. 0. ... 0. 0. 0.]\n",
            " ...\n",
            " [0. 0. 0. ... 0. 0. 0.]\n",
            " [0. 0. 0. ... 0. 0. 0.]\n",
            " [0. 0. 0. ... 0. 0. 0.]]\n"
          ]
        }
      ]
    },
    {
      "cell_type": "code",
      "metadata": {
        "id": "kz8qA2cfg3EM",
        "colab": {
          "base_uri": "https://localhost:8080/"
        },
        "outputId": "b9d267f5-9bdd-4e32-bdca-d4b8c7ffbea7"
      },
      "source": [
        "#transforma os y em one-hot vector\n",
        "y_train_h = np_utils.to_categorical(y_train)\n",
        "y_test_h = np_utils.to_categorical(y_test)\n",
        "validation_data=( np_utils.to_categorical(y_train), x_train2)\n",
        "validation_data2=( x_train2, np_utils.to_categorical(y_train))\n",
        "\n",
        "print(validation_data)\n",
        "print(validation_data2)\n",
        "\n",
        "#obtém o número de classes do problema. CS - camada de saída\n",
        "num_classes = y_test_h.shape[1]\n",
        "\n",
        "print(num_pixels)\n",
        "print(num_classes)\n",
        "print(y_train[100])\n",
        "print(y_train_h[100])"
      ],
      "execution_count": null,
      "outputs": [
        {
          "output_type": "stream",
          "name": "stdout",
          "text": [
            "(array([[0., 0., 0., ..., 0., 0., 0.],\n",
            "       [1., 0., 0., ..., 0., 0., 0.],\n",
            "       [0., 0., 0., ..., 0., 0., 0.],\n",
            "       ...,\n",
            "       [0., 0., 0., ..., 0., 0., 0.],\n",
            "       [0., 0., 0., ..., 0., 0., 0.],\n",
            "       [0., 0., 0., ..., 0., 1., 0.]], dtype=float32), array([[0., 0., 0., ..., 0., 0., 0.],\n",
            "       [0., 0., 0., ..., 0., 0., 0.],\n",
            "       [0., 0., 0., ..., 0., 0., 0.],\n",
            "       ...,\n",
            "       [0., 0., 0., ..., 0., 0., 0.],\n",
            "       [0., 0., 0., ..., 0., 0., 0.],\n",
            "       [0., 0., 0., ..., 0., 0., 0.]], dtype=float32))\n",
            "(array([[0., 0., 0., ..., 0., 0., 0.],\n",
            "       [0., 0., 0., ..., 0., 0., 0.],\n",
            "       [0., 0., 0., ..., 0., 0., 0.],\n",
            "       ...,\n",
            "       [0., 0., 0., ..., 0., 0., 0.],\n",
            "       [0., 0., 0., ..., 0., 0., 0.],\n",
            "       [0., 0., 0., ..., 0., 0., 0.]], dtype=float32), array([[0., 0., 0., ..., 0., 0., 0.],\n",
            "       [1., 0., 0., ..., 0., 0., 0.],\n",
            "       [0., 0., 0., ..., 0., 0., 0.],\n",
            "       ...,\n",
            "       [0., 0., 0., ..., 0., 0., 0.],\n",
            "       [0., 0., 0., ..., 0., 0., 0.],\n",
            "       [0., 0., 0., ..., 0., 1., 0.]], dtype=float32))\n",
            "784\n",
            "10\n",
            "5\n",
            "[0. 0. 0. 0. 0. 1. 0. 0. 0. 0.]\n"
          ]
        }
      ]
    },
    {
      "cell_type": "code",
      "metadata": {
        "id": "i-EnBXrXg3EN",
        "colab": {
          "base_uri": "https://localhost:8080/"
        },
        "outputId": "58c669aa-dc58-4e07-f44e-c53ca3321801"
      },
      "source": [
        "#criar um modelo do tipo de sequencia\n",
        "model = Sequential()\n",
        "model.add(InputLayer(input_shape=num_pixels)) #cria a camada de entrada\n",
        "model.add(Dense(1024, kernel_initializer='normal', input_dim=num_pixels, activation='relu')) #cria a primeira camada da rede\n",
        "model.add(Dense(2048, kernel_initializer='normal', activation='relu')) #cria a primeira camada da rede\n",
        "model.add(Dense(num_classes, kernel_initializer='normal', activation='softmax')) #cria a camada de saída softmax transforma um vetor de valores em uma distribuição de probabilidades\n",
        "\n",
        "model.summary() #imprimi informações sobre o modelo"
      ],
      "execution_count": null,
      "outputs": [
        {
          "output_type": "stream",
          "name": "stdout",
          "text": [
            "Model: \"sequential\"\n",
            "_________________________________________________________________\n",
            "Layer (type)                 Output Shape              Param #   \n",
            "=================================================================\n",
            "dense (Dense)                (None, 1024)              803840    \n",
            "_________________________________________________________________\n",
            "dense_1 (Dense)              (None, 2048)              2099200   \n",
            "_________________________________________________________________\n",
            "dense_2 (Dense)              (None, 10)                20490     \n",
            "=================================================================\n",
            "Total params: 2,923,530\n",
            "Trainable params: 2,923,530\n",
            "Non-trainable params: 0\n",
            "_________________________________________________________________\n"
          ]
        }
      ]
    },
    {
      "cell_type": "code",
      "metadata": {
        "id": "CJRbWAXzg3EN",
        "colab": {
          "base_uri": "https://localhost:8080/"
        },
        "outputId": "8819ee0e-de69-4ee3-a631-dbed82b8e338"
      },
      "source": [
        "model.compile(loss='categorical_crossentropy', optimizer='adam', metrics=['accuracy']) #compila o modelo criado\n",
        "result = model.fit(x_train2, y_train_h, validation_data=(x_test2, y_test_h), epochs=20, verbose=1, batch_size=100) #executa o treinamento"
      ],
      "execution_count": null,
      "outputs": [
        {
          "output_type": "stream",
          "name": "stdout",
          "text": [
            "Epoch 1/20\n",
            "600/600 [==============================] - 7s 7ms/step - loss: 0.1763 - accuracy: 0.9470 - val_loss: 0.0990 - val_accuracy: 0.9697\n",
            "Epoch 2/20\n",
            "600/600 [==============================] - 4s 6ms/step - loss: 0.0706 - accuracy: 0.9772 - val_loss: 0.0846 - val_accuracy: 0.9725\n",
            "Epoch 3/20\n",
            "600/600 [==============================] - 4s 6ms/step - loss: 0.0466 - accuracy: 0.9855 - val_loss: 0.0775 - val_accuracy: 0.9749\n",
            "Epoch 4/20\n",
            "600/600 [==============================] - 4s 6ms/step - loss: 0.0348 - accuracy: 0.9886 - val_loss: 0.0797 - val_accuracy: 0.9783\n",
            "Epoch 5/20\n",
            "600/600 [==============================] - 4s 6ms/step - loss: 0.0285 - accuracy: 0.9909 - val_loss: 0.0727 - val_accuracy: 0.9794\n",
            "Epoch 6/20\n",
            "600/600 [==============================] - 4s 6ms/step - loss: 0.0258 - accuracy: 0.9918 - val_loss: 0.0823 - val_accuracy: 0.9782\n",
            "Epoch 7/20\n",
            "600/600 [==============================] - 4s 6ms/step - loss: 0.0225 - accuracy: 0.9923 - val_loss: 0.0796 - val_accuracy: 0.9789\n",
            "Epoch 8/20\n",
            "600/600 [==============================] - 4s 6ms/step - loss: 0.0211 - accuracy: 0.9933 - val_loss: 0.0787 - val_accuracy: 0.9814\n",
            "Epoch 9/20\n",
            "600/600 [==============================] - 4s 6ms/step - loss: 0.0183 - accuracy: 0.9944 - val_loss: 0.0932 - val_accuracy: 0.9789\n",
            "Epoch 10/20\n",
            "600/600 [==============================] - 4s 6ms/step - loss: 0.0168 - accuracy: 0.9948 - val_loss: 0.1035 - val_accuracy: 0.9781\n",
            "Epoch 11/20\n",
            "600/600 [==============================] - 4s 6ms/step - loss: 0.0154 - accuracy: 0.9955 - val_loss: 0.0816 - val_accuracy: 0.9832\n",
            "Epoch 12/20\n",
            "600/600 [==============================] - 4s 6ms/step - loss: 0.0138 - accuracy: 0.9959 - val_loss: 0.0884 - val_accuracy: 0.9805\n",
            "Epoch 13/20\n",
            "600/600 [==============================] - 4s 6ms/step - loss: 0.0167 - accuracy: 0.9951 - val_loss: 0.0809 - val_accuracy: 0.9821\n",
            "Epoch 14/20\n",
            "600/600 [==============================] - 4s 6ms/step - loss: 0.0162 - accuracy: 0.9956 - val_loss: 0.0985 - val_accuracy: 0.9813\n",
            "Epoch 15/20\n",
            "600/600 [==============================] - 4s 6ms/step - loss: 0.0121 - accuracy: 0.9967 - val_loss: 0.0924 - val_accuracy: 0.9829\n",
            "Epoch 16/20\n",
            "600/600 [==============================] - 4s 6ms/step - loss: 0.0086 - accuracy: 0.9975 - val_loss: 0.0904 - val_accuracy: 0.9834\n",
            "Epoch 17/20\n",
            "600/600 [==============================] - 4s 6ms/step - loss: 0.0102 - accuracy: 0.9970 - val_loss: 0.0973 - val_accuracy: 0.9820\n",
            "Epoch 18/20\n",
            "600/600 [==============================] - 4s 6ms/step - loss: 0.0121 - accuracy: 0.9966 - val_loss: 0.1172 - val_accuracy: 0.9797\n",
            "Epoch 19/20\n",
            "600/600 [==============================] - 4s 6ms/step - loss: 0.0106 - accuracy: 0.9969 - val_loss: 0.1043 - val_accuracy: 0.9818\n",
            "Epoch 20/20\n",
            "600/600 [==============================] - 4s 6ms/step - loss: 0.0100 - accuracy: 0.9975 - val_loss: 0.0981 - val_accuracy: 0.9820\n"
          ]
        }
      ]
    },
    {
      "cell_type": "code",
      "metadata": {
        "id": "NA2o4Oysg3EO",
        "colab": {
          "base_uri": "https://localhost:8080/"
        },
        "outputId": "84c90f04-9f3c-4747-c6ff-d43797e3703c"
      },
      "source": [
        "x = x_train2[100]\n",
        "print(x.shape)\n",
        "x = numpy.expand_dims(x, axis=0)\n",
        "print(x.shape)\n",
        "print(model.predict(x))\n",
        "print(numpy.argmax(model.predict(x)))"
      ],
      "execution_count": null,
      "outputs": [
        {
          "output_type": "stream",
          "name": "stdout",
          "text": [
            "(784,)\n",
            "(1, 784)\n",
            "[[9.9373104e-20 6.2682615e-22 3.7704110e-20 4.7890582e-15 2.0051072e-23\n",
            "  1.0000000e+00 1.3465786e-12 6.9012348e-25 9.2958016e-11 1.6196256e-11]]\n",
            "5\n"
          ]
        }
      ]
    }
  ]
}